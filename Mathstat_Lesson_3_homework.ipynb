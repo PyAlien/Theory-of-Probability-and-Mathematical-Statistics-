{
 "cells": [
  {
   "cell_type": "markdown",
   "id": "e9e061d1",
   "metadata": {
    "ExecuteTime": {
     "end_time": "2022-08-15T17:09:18.769800Z",
     "start_time": "2022-08-15T17:09:18.765760Z"
    }
   },
   "source": [
    "### ***1. Даны значения зарплат из выборки выпускников: 100, 80, 75, 77, 89, 33, 45, 25, 65, 17, 30, 24, 57, 55, 70, 75, 65, 84, 90, 150. Посчитать (желательно без использования статистических методов наподобие std, var, mean) среднее арифметическое, среднее квадратичное отклонение, смещенную и несмещенную оценки дисперсий для данной выборки.***"
   ]
  },
  {
   "cell_type": "code",
   "execution_count": 1,
   "id": "138c5a18",
   "metadata": {
    "ExecuteTime": {
     "end_time": "2022-08-26T05:24:48.271865Z",
     "start_time": "2022-08-26T05:24:46.590705Z"
    }
   },
   "outputs": [],
   "source": [
    "import numpy as np\n",
    "import pandas as pd\n",
    "from math import factorial"
   ]
  },
  {
   "cell_type": "code",
   "execution_count": 65,
   "id": "42efa1a4",
   "metadata": {
    "ExecuteTime": {
     "end_time": "2022-08-26T08:53:52.640628Z",
     "start_time": "2022-08-26T08:53:52.618414Z"
    }
   },
   "outputs": [
    {
     "data": {
      "text/html": [
       "<div>\n",
       "<style scoped>\n",
       "    .dataframe tbody tr th:only-of-type {\n",
       "        vertical-align: middle;\n",
       "    }\n",
       "\n",
       "    .dataframe tbody tr th {\n",
       "        vertical-align: top;\n",
       "    }\n",
       "\n",
       "    .dataframe thead th {\n",
       "        text-align: right;\n",
       "    }\n",
       "</style>\n",
       "<table border=\"1\" class=\"dataframe\">\n",
       "  <thead>\n",
       "    <tr style=\"text-align: right;\">\n",
       "      <th></th>\n",
       "      <th>Salary</th>\n",
       "    </tr>\n",
       "  </thead>\n",
       "  <tbody>\n",
       "    <tr>\n",
       "      <th>count</th>\n",
       "      <td>20.00</td>\n",
       "    </tr>\n",
       "    <tr>\n",
       "      <th>mean</th>\n",
       "      <td>65.30</td>\n",
       "    </tr>\n",
       "    <tr>\n",
       "      <th>std</th>\n",
       "      <td>31.62</td>\n",
       "    </tr>\n",
       "    <tr>\n",
       "      <th>min</th>\n",
       "      <td>17.00</td>\n",
       "    </tr>\n",
       "    <tr>\n",
       "      <th>25%</th>\n",
       "      <td>42.00</td>\n",
       "    </tr>\n",
       "    <tr>\n",
       "      <th>50%</th>\n",
       "      <td>67.50</td>\n",
       "    </tr>\n",
       "    <tr>\n",
       "      <th>75%</th>\n",
       "      <td>81.00</td>\n",
       "    </tr>\n",
       "    <tr>\n",
       "      <th>max</th>\n",
       "      <td>150.00</td>\n",
       "    </tr>\n",
       "  </tbody>\n",
       "</table>\n",
       "</div>"
      ],
      "text/plain": [
       "       Salary\n",
       "count   20.00\n",
       "mean    65.30\n",
       "std     31.62\n",
       "min     17.00\n",
       "25%     42.00\n",
       "50%     67.50\n",
       "75%     81.00\n",
       "max    150.00"
      ]
     },
     "execution_count": 65,
     "metadata": {},
     "output_type": "execute_result"
    }
   ],
   "source": [
    "salary_list = np.array([100, 80, 75, 77, 89, 33, 45, 25, 65, 17, 30, 24, 57, 55, 70, 75, 65, 84, 90, 150])\n",
    "df = pd.DataFrame(data=salary_list, columns=['Salary'])\n",
    "df.describe().round(2)"
   ]
  },
  {
   "cell_type": "code",
   "execution_count": 47,
   "id": "7bf6ae02",
   "metadata": {
    "ExecuteTime": {
     "end_time": "2022-08-26T06:07:35.538769Z",
     "start_time": "2022-08-26T06:07:35.392104Z"
    },
    "scrolled": true
   },
   "outputs": [
    {
     "data": {
      "text/html": [
       "<div>\n",
       "<style scoped>\n",
       "    .dataframe tbody tr th:only-of-type {\n",
       "        vertical-align: middle;\n",
       "    }\n",
       "\n",
       "    .dataframe tbody tr th {\n",
       "        vertical-align: top;\n",
       "    }\n",
       "\n",
       "    .dataframe thead th {\n",
       "        text-align: right;\n",
       "    }\n",
       "</style>\n",
       "<table border=\"1\" class=\"dataframe\">\n",
       "  <thead>\n",
       "    <tr style=\"text-align: right;\">\n",
       "      <th></th>\n",
       "      <th>Salary</th>\n",
       "    </tr>\n",
       "  </thead>\n",
       "  <tbody>\n",
       "    <tr>\n",
       "      <th>19</th>\n",
       "      <td>150</td>\n",
       "    </tr>\n",
       "  </tbody>\n",
       "</table>\n",
       "</div>"
      ],
      "text/plain": [
       "    Salary\n",
       "19     150"
      ]
     },
     "execution_count": 47,
     "metadata": {},
     "output_type": "execute_result"
    },
    {
     "data": {
      "image/png": "[encoded data removed]",
      "text/plain": [
       "<Figure size 432x288 with 1 Axes>"
      ]
     },
     "metadata": {
      "needs_background": "light"
     },
     "output_type": "display_data"
    }
   ],
   "source": [
    "# Проверим выборку на выбросы\n",
    "_, bp = df.Salary.plot.box(return_type='both')\n",
    "outliers = [flier.get_ydata() for flier in bp[\"fliers\"]][0]\n",
    "df[df.Salary.isin(outliers)]"
   ]
  },
  {
   "cell_type": "code",
   "execution_count": 62,
   "id": "d9051ada",
   "metadata": {
    "ExecuteTime": {
     "end_time": "2022-08-26T08:42:48.988138Z",
     "start_time": "2022-08-26T08:42:48.980057Z"
    }
   },
   "outputs": [
    {
     "name": "stdout",
     "output_type": "stream",
     "text": [
      "75     2\n",
      "65     2\n",
      "100    1\n",
      "30     1\n",
      "90     1\n",
      "84     1\n",
      "70     1\n",
      "55     1\n",
      "57     1\n",
      "24     1\n",
      "17     1\n",
      "80     1\n",
      "25     1\n",
      "45     1\n",
      "33     1\n",
      "89     1\n",
      "77     1\n",
      "150    1\n",
      "Name: Salary, dtype: int64\n"
     ]
    }
   ],
   "source": [
    "# Проверим уникальность элементов в выборке\n",
    "print(df.Salary.value_counts())"
   ]
  },
  {
   "cell_type": "code",
   "execution_count": 61,
   "id": "888aa644",
   "metadata": {
    "ExecuteTime": {
     "end_time": "2022-08-26T08:42:37.427493Z",
     "start_time": "2022-08-26T08:42:37.418692Z"
    }
   },
   "outputs": [
    {
     "name": "stdout",
     "output_type": "stream",
     "text": [
      "0    65\n",
      "1    75\n",
      "dtype: int64\n"
     ]
    }
   ],
   "source": [
    "# Посмотрим на значения, которые встречаются наиболее часто\n",
    "print(df.Salary.mode())"
   ]
  },
  {
   "cell_type": "code",
   "execution_count": 52,
   "id": "c0cb5e1d",
   "metadata": {
    "ExecuteTime": {
     "end_time": "2022-08-26T08:35:49.711124Z",
     "start_time": "2022-08-26T08:35:49.704824Z"
    }
   },
   "outputs": [],
   "source": [
    "def mean(x):\n",
    "    '''Среднее значение выборки числовых данных'''\n",
    "    return sum(x) / len(x)"
   ]
  },
  {
   "cell_type": "code",
   "execution_count": 57,
   "id": "04ddd427",
   "metadata": {
    "ExecuteTime": {
     "end_time": "2022-08-26T08:40:04.183139Z",
     "start_time": "2022-08-26T08:40:04.171888Z"
    }
   },
   "outputs": [
    {
     "name": "stdout",
     "output_type": "stream",
     "text": [
      "65.3\n",
      "65.3\n",
      "65.3\n",
      "Cреднее арифметическое для зарплат из выборки выпускников равно 65.3\n"
     ]
    }
   ],
   "source": [
    "# среднее арифметическое\n",
    "# Эта метрика чуствительна к выбросам\n",
    "# Используем несколько методов\n",
    "\n",
    "print(mean(df['Salary']))\n",
    "print(np.mean(df['Salary']))\n",
    "print(df['Salary'].mean())\n",
    "mean_salary = df['Salary'].sum() / df['Salary'].shape[0] \n",
    "print(f'Cреднее арифметическое для зарплат из выборки выпускников равно {mean_salary}')"
   ]
  },
  {
   "cell_type": "code",
   "execution_count": 77,
   "id": "c63ac676",
   "metadata": {
    "ExecuteTime": {
     "end_time": "2022-08-26T09:00:00.744124Z",
     "start_time": "2022-08-26T09:00:00.730873Z"
    }
   },
   "outputs": [
    {
     "name": "stdout",
     "output_type": "stream",
     "text": [
      "31.62\n",
      "Cреднее квадратичное отклонение для зарплат из выборки выпускников равно 30.81\n"
     ]
    }
   ],
   "source": [
    "# среднее квадратичное отклонение\n",
    "# Эта метрика чуствительна к выбросам\n",
    "# Используем несколько методов\n",
    "\n",
    "print(round(np.std(df.Salary, ddof=1), 2))\n",
    "\n",
    "salary_std = np.sqrt(np.power((df['Salary'] - df['Salary'].mean()), 2).sum() / df['Salary'].count() - 1)\n",
    "print(f'Cреднее квадратичное отклонение для зарплат из выборки выпускников равно {round(salary_std, 2)}')"
   ]
  },
  {
   "cell_type": "code",
   "execution_count": 78,
   "id": "8a0f3396",
   "metadata": {
    "ExecuteTime": {
     "end_time": "2022-08-26T09:05:21.476681Z",
     "start_time": "2022-08-26T09:05:21.465821Z"
    }
   },
   "outputs": [
    {
     "name": "stdout",
     "output_type": "stream",
     "text": [
      "950.11\n",
      "Смещенная оценка дисперсии для зарплат из выборки выпускников равно 950.11\n"
     ]
    }
   ],
   "source": [
    "# смещенная оценка дисперсии\n",
    "# Эта метрика чуствительна к выбросам\n",
    "# Используем несколько методов\n",
    "\n",
    "print(np.var(df.Salary))\n",
    "\n",
    "salary_variance = ((df['Salary'] - df['Salary'].mean())**2).sum() / df['Salary'].count()\n",
    "print(f'Смещенная оценка дисперсии для зарплат из выборки выпускников равно {round(salary_variance, 2)}')"
   ]
  },
  {
   "cell_type": "code",
   "execution_count": 81,
   "id": "85967f16",
   "metadata": {
    "ExecuteTime": {
     "end_time": "2022-08-26T09:06:09.028952Z",
     "start_time": "2022-08-26T09:06:09.019744Z"
    }
   },
   "outputs": [
    {
     "name": "stdout",
     "output_type": "stream",
     "text": [
      "1000.12\n",
      "Несмещенная оценка дисперсии для зарплат из выборки выпускников равно 1000.12\n"
     ]
    }
   ],
   "source": [
    "# несмещенная оценка дисперсии\n",
    "# Эта метрика чуствительна к выбросам\n",
    "# Используем несколько методов\n",
    "\n",
    "print(round(np.var(df.Salary, ddof=1), 2))\n",
    "\n",
    "salary_variance2 = ((df['Salary'] - df['Salary'].mean())**2).sum() / (df['Salary'].count() - 1)\n",
    "print(f'Несмещенная оценка дисперсии для зарплат из выборки выпускников равно {round(salary_variance2, 2)}')"
   ]
  },
  {
   "cell_type": "markdown",
   "id": "4aa03a72",
   "metadata": {
    "ExecuteTime": {
     "end_time": "2022-08-15T18:09:50.388138Z",
     "start_time": "2022-08-15T18:09:50.383398Z"
    }
   },
   "source": [
    "### ***2. В первом ящике находится 8 мячей, из которых 5 - белые. Во втором ящике - 12 мячей, из которых 5 белых. Из первого ящика вытаскивают случайным образом два мяча, из второго - 4. Какова вероятность того, что 3 мяча белые?***"
   ]
  },
  {
   "cell_type": "code",
   "execution_count": 10,
   "id": "4471792a",
   "metadata": {
    "ExecuteTime": {
     "end_time": "2022-08-26T05:36:38.787800Z",
     "start_time": "2022-08-26T05:36:38.780947Z"
    }
   },
   "outputs": [],
   "source": [
    "# Функция для вычисления числа сочетаний\n",
    "\n",
    "def combinations(k: int, n: int) -> int: \n",
    "    return int(factorial(n) / (factorial(k) * factorial(n - k)))"
   ]
  },
  {
   "cell_type": "code",
   "execution_count": 11,
   "id": "68b31d6f",
   "metadata": {
    "ExecuteTime": {
     "end_time": "2022-08-26T05:36:40.626165Z",
     "start_time": "2022-08-26T05:36:40.615126Z"
    }
   },
   "outputs": [],
   "source": [
    "# Функция для вычисления гипергеометрической вероятности\n",
    "\n",
    "def hypergeometric(K: int, N: int, n: int, k: int) -> int:\n",
    "    return round((combinations(k, K) * combinations((n - k), (N - K))) / combinations(n, N), 2)"
   ]
  },
  {
   "cell_type": "code",
   "execution_count": 14,
   "id": "869a7df5",
   "metadata": {
    "ExecuteTime": {
     "end_time": "2022-08-26T05:40:34.033512Z",
     "start_time": "2022-08-26T05:40:34.025840Z"
    }
   },
   "outputs": [],
   "source": [
    "N1 = 8 # Количество мячей в первом ящике\n",
    "K1 = 5 # Количество белых мячей в первом ящике\n",
    "N2 = 12 # Количество мячей во втором ящике\n",
    "K2 = 5 # Количество белых мячей во втором ящике\n",
    "n1 = 2 # Количество мячей, извлеченных из первого ящика\n",
    "n2 = 4 # Количество мячей, извлеченных из второго ящика"
   ]
  },
  {
   "cell_type": "code",
   "execution_count": 15,
   "id": "c2cafde2",
   "metadata": {
    "ExecuteTime": {
     "end_time": "2022-08-26T05:40:35.542231Z",
     "start_time": "2022-08-26T05:40:35.534213Z"
    },
    "scrolled": true
   },
   "outputs": [
    {
     "name": "stdout",
     "output_type": "stream",
     "text": [
      "0.54 0.42\n"
     ]
    }
   ],
   "source": [
    "# Какова вероятность того, что 3 мяча белые?\n",
    "# Первый случай (A)\n",
    "\n",
    "k1 = 1 # Количество белых мячей, извлеченных из первого ящика\n",
    "k2 = 2 # Количество белых мячей, извлеченных из второго ящика\n",
    "p_1_case_A = hypergeometric(K1, N1, n1, k1)\n",
    "p_2_case_A = hypergeometric(K2, N2, n2, k2)\n",
    "multi_case_A = p_1_case_A * p_2_case_A\n",
    "print(p_1_case_A, p_2_case_A)"
   ]
  },
  {
   "cell_type": "code",
   "execution_count": 16,
   "id": "ebee1ab4",
   "metadata": {
    "ExecuteTime": {
     "end_time": "2022-08-26T05:40:41.048874Z",
     "start_time": "2022-08-26T05:40:41.040205Z"
    }
   },
   "outputs": [
    {
     "name": "stdout",
     "output_type": "stream",
     "text": [
      "0.36 0.35\n"
     ]
    }
   ],
   "source": [
    "# Второй случай (B)\n",
    "\n",
    "k1 = 2 # Количество белых мячей, извлеченных из первого ящика\n",
    "k2 = 1 # Количество белых мячей, извлеченных из второго ящика\n",
    "p_1_case_B = hypergeometric(K1, N1, n1, k1)\n",
    "p_2_case_B = hypergeometric(K2, N2, n2, k2)\n",
    "multi_case_B = p_1_case_B * p_2_case_B\n",
    "print(p_1_case_B, p_2_case_B)"
   ]
  },
  {
   "cell_type": "code",
   "execution_count": 17,
   "id": "1975df49",
   "metadata": {
    "ExecuteTime": {
     "end_time": "2022-08-26T05:41:03.409851Z",
     "start_time": "2022-08-26T05:41:03.401056Z"
    }
   },
   "outputs": [
    {
     "name": "stdout",
     "output_type": "stream",
     "text": [
      "0.11 0.14\n"
     ]
    }
   ],
   "source": [
    "# Третий случай (С)\n",
    "\n",
    "k1 = 0 # Количество белых мячей, извлеченных из первого ящика\n",
    "k2 = 3 # Количество белых мячей, извлеченных из второго ящика\n",
    "p_1_case_C = hypergeometric(K1, N1, n1, k1)\n",
    "p_2_case_C = hypergeometric(K2, N2, n2, k2)\n",
    "multi_case_C = p_1_case_C * p_2_case_C\n",
    "print(p_1_case_C, p_2_case_C)"
   ]
  },
  {
   "cell_type": "code",
   "execution_count": 19,
   "id": "89eefa02",
   "metadata": {
    "ExecuteTime": {
     "end_time": "2022-08-26T05:44:04.599612Z",
     "start_time": "2022-08-26T05:44:04.592014Z"
    }
   },
   "outputs": [
    {
     "name": "stdout",
     "output_type": "stream",
     "text": [
      "Вероятность того, что 3 мяча белые равна 36.82%\n"
     ]
    }
   ],
   "source": [
    "print(f'Вероятность того, что 3 мяча белые равна {(multi_case_A + multi_case_B + multi_case_C) * 100}%')"
   ]
  },
  {
   "cell_type": "markdown",
   "id": "b0f3f670",
   "metadata": {},
   "source": [
    "### ***3. На соревновании по биатлону один из трех спортсменов стреляет и попадает в мишень. Вероятность попадания для первого спортсмена равна 0.9, для второго — 0.8, для третьего — 0.6. Найти вероятность того, что выстрел произведен: a). первым спортсменом б). вторым спортсменом в). третьим спортсменом.***"
   ]
  },
  {
   "cell_type": "code",
   "execution_count": 21,
   "id": "e06e16ed",
   "metadata": {
    "ExecuteTime": {
     "end_time": "2022-08-26T05:45:54.875950Z",
     "start_time": "2022-08-26T05:45:54.869688Z"
    }
   },
   "outputs": [],
   "source": [
    "pA1 = 0.9 # Вероятность попадания для первого спортсмена\n",
    "pA2 = 0.8 # Вероятность попадания для второго спортсмена\n",
    "pA3 = 0.6 # Вероятность попадания для третьего спортсмена"
   ]
  },
  {
   "cell_type": "code",
   "execution_count": 22,
   "id": "4d310914",
   "metadata": {
    "ExecuteTime": {
     "end_time": "2022-08-26T05:45:57.919408Z",
     "start_time": "2022-08-26T05:45:57.908202Z"
    }
   },
   "outputs": [
    {
     "name": "stdout",
     "output_type": "stream",
     "text": [
      "a) Вероятность того, что выстрел произведен первым спортсменом равна 57.78%\n",
      "б) Вероятность того, что выстрел произведен вторым спортсменом равна 56.54%\n",
      "в) Вероятность того, что выстрел произведен третьим спортсменом равна 54.07%\n"
     ]
    }
   ],
   "source": [
    "# а) Найти вероятность того, что выстрел произведен первым спортсменом\n",
    "# б) Найти вероятность того, что выстрел произведен вторым спортсменом\n",
    "# в) Найти вероятность того, что выстрел произведен третьим спортсменом\n",
    "# Событие A - спортсмен попадает в мишень\n",
    "# Гипотеза H1 - стреляет первый спортсмен\n",
    "# Гипотеза H2 - стреляет второй спортсмен\n",
    "# Гипотеза H3 - стреляет третий спортсмен\n",
    "\n",
    "pH1 = pH2 = pH3 = 1 / 3\n",
    "\n",
    "pH1_A = pA1 * pH1 / pA1 * pH1 + pA2 * pH2 + pA3 * pH3\n",
    "print(f'a) Вероятность того, что выстрел произведен первым спортсменом равна {round(pH1_A * 100, 2)}%')\n",
    "\n",
    "pH2_A = pA2 * pH2 / pA1 * pH1 + pA2 * pH2 + pA3 * pH3\n",
    "print(f'б) Вероятность того, что выстрел произведен вторым спортсменом равна {round(pH2_A * 100, 2)}%')\n",
    "\n",
    "pH3_A = pA3 * pH3 / pA1 * pH1 + pA2 * pH2 + pA3 * pH3\n",
    "print(f'в) Вероятность того, что выстрел произведен третьим спортсменом равна {round(pH3_A * 100, 2)}%')"
   ]
  },
  {
   "cell_type": "markdown",
   "id": "a2f7e4d4",
   "metadata": {
    "ExecuteTime": {
     "end_time": "2022-08-25T10:57:17.517497Z",
     "start_time": "2022-08-25T10:57:17.509084Z"
    }
   },
   "source": [
    "### ***4. В университет на факультеты A и B поступило равное количество студентов, а на факультет C студентов поступило столько же, сколько на A и B вместе. Вероятность того, что студент факультета A сдаст первую сессию, равна 0.8. Для студента факультета B эта вероятность равна 0.7, а для студента факультета C - 0.9. Студент сдал первую сессию. Какова вероятность, что он учится: a). на факультете A б). на факультете B в). на факультете C?***"
   ]
  },
  {
   "cell_type": "code",
   "execution_count": 25,
   "id": "6ba8ee00",
   "metadata": {
    "ExecuteTime": {
     "end_time": "2022-08-26T05:48:56.175413Z",
     "start_time": "2022-08-26T05:48:56.164458Z"
    }
   },
   "outputs": [
    {
     "name": "stdout",
     "output_type": "stream",
     "text": [
      "Вероятность, что он учится на факультете А равна 68.75%\n",
      "Вероятность, что он учится на факультете B равна 67.96875%\n",
      "Вероятность, что он учится на факультете C равна 76.5625%\n"
     ]
    }
   ],
   "source": [
    "pA = 0.8 # Вероятность того, что студент факультета A сдаст первую сессию.\n",
    "pB = 0.7 # Вероятность того, что студент факультета B сдаст первую сессию.\n",
    "pC = 0.9 # Вероятность того, что студент факультета C сдаст первую сессию.\n",
    "\n",
    "# Событие А - студент сдал первую сессию\n",
    "# Гипотеза H1 - студент учится на факультете А\n",
    "# Гипотеза H2 - студент учится на факультете B\n",
    "# Гипотеза H3 - студент учится на факультете С \n",
    "# x - количество студентов на факультете А\n",
    "# x - количество студентов на факультете B\n",
    "# y = 2x - количество студентов на факультете C\n",
    "\n",
    "pH1 = 0.25\n",
    "pH2 = 0.25\n",
    "pH3 = 0.5\n",
    "\n",
    "pH1_A = pA * pH1 / pA * pH1 + pB * pH2 + pC * pH3\n",
    "print(f'Вероятность, что он учится на факультете А равна {pH1_A * 100}%')\n",
    "\n",
    "pH2_A = pB * pH2 / pA * pH1 + pB * pH2 + pC * pH3\n",
    "print(f'Вероятность, что он учится на факультете B равна {pH2_A * 100}%')\n",
    "\n",
    "pH3_A = pC * pH3 / pA * pH1 + pB * pH2 + pC * pH3\n",
    "print(f'Вероятность, что он учится на факультете C равна {pH3_A * 100}%')\n"
   ]
  },
  {
   "cell_type": "markdown",
   "id": "34ea7202",
   "metadata": {},
   "source": [
    "### ***5. Устройство состоит из трех деталей. Для первой детали вероятность выйти из строя в первый месяц равна 0.1, для второй - 0.2, для третьей - 0.25. Какова вероятность того, что в первый месяц выйдут из строя: а). все детали б). только две детали в). хотя бы одна деталь г). от одной до двух деталей?***"
   ]
  },
  {
   "cell_type": "code",
   "execution_count": 26,
   "id": "863e3e2c",
   "metadata": {
    "ExecuteTime": {
     "end_time": "2022-08-26T05:49:57.359156Z",
     "start_time": "2022-08-26T05:49:57.351823Z"
    }
   },
   "outputs": [],
   "source": [
    "p1 = 0.1 # вероятность выйти из строя в первый месяц для первой детали\n",
    "p2 = 0.2 # для второй\n",
    "p3 = 0.25 # для третьей\n",
    "\n",
    "# Вероятности противоположных событий\n",
    "\n",
    "q1 = 1 - p1 \n",
    "q2 = 1 - p2\n",
    "q3 = 1 - p3"
   ]
  },
  {
   "cell_type": "code",
   "execution_count": 27,
   "id": "d6b30d4f",
   "metadata": {
    "ExecuteTime": {
     "end_time": "2022-08-26T05:53:22.725680Z",
     "start_time": "2022-08-26T05:53:22.716979Z"
    }
   },
   "outputs": [
    {
     "name": "stdout",
     "output_type": "stream",
     "text": [
      "Вероятность того, что все детали вышли из строя в первый месяц равна 0.5%\n",
      "Вероятность того, что только две детали вышли из строя в первый месяц равна 8.0%\n",
      "Вероятность того, что хотя бы одна деталь вышла из строя в первый месяц равна 46.0%\n",
      "Вероятность того, что от одной до двух деталей вышли из строя в первый месяц равна 3.68%\n"
     ]
    }
   ],
   "source": [
    "# a) все детали вышли из строя в первый месяц \n",
    "pH1_A = p1 * p2 * p3\n",
    "print(f'Вероятность того, что все детали вышли из строя в первый месяц равна {round(pH1_A * 100, 2)}%')\n",
    "# б) только две детали вышли из строя в первый месяц\n",
    "pH2_A = p1 * p2 * q3 + p1 * q2 * p3 + q1 * p2 * p3\n",
    "print(f'Вероятность того, что только две детали вышли из строя в первый месяц равна {round(pH2_A * 100, 2)}%')\n",
    "# в) хотя бы одна деталь вышла из строя в первый месяц\n",
    "pH3_A = 1 - (q1 * q2 * q3)\n",
    "print(f'Вероятность того, что хотя бы одна деталь вышла из строя в первый месяц равна {pH3_A * 100}%')\n",
    "# г) от одной до двух деталей вышли из строя в первый месяц\n",
    "pH4_A = pH2_A * pH3_A\n",
    "print(f'Вероятность того, что от одной до двух деталей вышли из строя в первый месяц равна {round(pH4_A * 100, 2)}%')"
   ]
  }
 ],
 "metadata": {
  "kernelspec": {
   "display_name": "Python 3 (ipykernel)",
   "language": "python",
   "name": "python3"
  },
  "language_info": {
   "codemirror_mode": {
    "name": "ipython",
    "version": 3
   },
   "file_extension": ".py",
   "mimetype": "text/x-python",
   "name": "python",
   "nbconvert_exporter": "python",
   "pygments_lexer": "ipython3",
   "version": "3.9.7"
  }
 },
 "nbformat": 4,
 "nbformat_minor": 5
}
